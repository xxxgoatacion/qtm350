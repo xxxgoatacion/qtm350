{
 "cells": [
  {
   "cell_type": "markdown",
   "metadata": {},
   "source": [
    "# QTM 350 - Data Science Computing\n",
    "\n",
    "## Assignment 01 - Computational Literacy\n",
    "### Due 29 January 2025\n",
    "\n",
    "### Instructions\n",
    "\n",
    "This assignment evaluates your understanding of topics covered in the first two weeks of class, including binary and hexadecimal number systems, ASCII encoding, and programming language fundamentals.\n",
    "\n",
    "You must complete this assignment individually. While you may use available resources such as notes, books, and AI tools, you are expected to submit original work. Please acknowledge all resources used, including input from classmates and AI. If you are unsure about permissible resources or proper acknowledgement, please consult the instructor.\n",
    "\n",
    "Present your solutions clearly and systematically, showing your problem-solving process. Please ensure that any code is well-commented.\n",
    "\n",
    "### Submission\n",
    "\n",
    "Please submit your solutions as either a single Jupyter notebook or a PDF file. Follow the instructions provided in each section carefully. Submit your completed assignment to Canvas or via email (danilo.freire@emory.edu) by Wednesday, September 11, at 11:59 PM."
   ]
  },
  {
   "cell_type": "markdown",
   "metadata": {},
   "source": [
    "### Question 01\n",
    "\n",
    "Convert the decimal number 53 to binary. Show your work."
   ]
  },
  {
   "cell_type": "markdown",
   "metadata": {},
   "source": [
    "1. **Divide 53 by 2:**\n",
    "   - $53 \\div 2 = 26$ remainder **1**\n",
    "   - Write down the remainder: **1**\n",
    "\n",
    "2. **Divide 26 by 2:**\n",
    "   - $26 \\div 2 = 13$ remainder **0**\n",
    "   - Write down the remainder: **0**\n",
    "\n",
    "3. **Divide 13 by 2:**\n",
    "   - $13 \\div 2 = 6$ remainder **1**\n",
    "   - Write down the remainder: **1**\n",
    "\n",
    "4. **Divide 6 by 2:**\n",
    "   - $6 \\div 2 = 3$ remainder **0**\n",
    "   - Write down the remainder: **0**\n",
    "\n",
    "5. **Divide 3 by 2:**\n",
    "   - $3 \\div 2 = 1$ remainder **1**\n",
    "   - Write down the remainder: **1**\n",
    "\n",
    "6. **Divide 1 by 2:**\n",
    "   - $1 \\div 2 = 0$ remainder **1**\n",
    "   - Write down the remainder: **1**\n",
    "\n",
    "#### Collect the Remainders:\n",
    "- Read the remainders from bottom to top: **110101**\n",
    "\n",
    "#### Final Answer:\n",
    "The binary representation of $53$ is:\n",
    "**110101**"
   ]
  },
  {
   "cell_type": "markdown",
   "metadata": {},
   "source": [
    "### Question 02\n",
    "\n",
    "Convert the binary number 1011001 to decimal. Show your work."
   ]
  },
  {
   "cell_type": "markdown",
   "metadata": {},
   "source": [
    "1. **Write down the binary number with its powers of 2:**\n",
    "   - $1011001$ corresponds to:\n",
    "     $$\n",
    "     1 \\cdot 2^6, \\, 0 \\cdot 2^5, \\, 1 \\cdot 2^4, \\, 1 \\cdot 2^3, \\, 0 \\cdot 2^2, \\, 0 \\cdot 2^1, \\, 1 \\cdot 2^0\n",
    "     $$\n",
    "\n",
    "2. **Compute the value of each term:**\n",
    "   - $1 \\cdot 2^6 = 64$\n",
    "   - $0 \\cdot 2^5 = 0$\n",
    "   - $1 \\cdot 2^4 = 16$\n",
    "   - $1 \\cdot 2^3 = 8$\n",
    "   - $0 \\cdot 2^2 = 0$\n",
    "   - $0 \\cdot 2^1 = 0$\n",
    "   - $1 \\cdot 2^0 = 1$\n",
    "\n",
    "3. **Add up the values:**\n",
    "   $$\n",
    "   64 + 0 + 16 + 8 + 0 + 0 + 1 = 89\n",
    "   $$\n",
    "\n",
    "#### Final Answer:\n",
    "The decimal equivalent of $1011001_2$ is 89."
   ]
  },
  {
   "cell_type": "markdown",
   "metadata": {},
   "source": [
    "### Question 03\n",
    "\n",
    "What is the hexadecimal representation of the RGB colour (128, 64, 255)? Explain your answer."
   ]
  },
  {
   "cell_type": "markdown",
   "metadata": {},
   "source": [
    "### Question 04\n",
    "\n",
    "Convert the hexadecimal colour #2A9F3B to its RGB components. Show your steps."
   ]
  },
  {
   "cell_type": "markdown",
   "metadata": {},
   "source": [
    "1. **Convert the red component (128) to hexadecimal:**\n",
    "   - Divide $128$ by $16$ (base of hexadecimal):\n",
    "     $$\n",
    "     128 \\div 16 = 8 \\text{ remainder } 0\n",
    "     $$\n",
    "   - The hexadecimal representation is: **80**.\n",
    "\n",
    "2. **Convert the green component (64) to hexadecimal:**\n",
    "   - Divide $64$ by $16$:\n",
    "     $$\n",
    "     64 \\div 16 = 4 \\text{ remainder } 0\n",
    "     $$\n",
    "   - The hexadecimal representation is: **40**.\n",
    "\n",
    "3. **Convert the blue component (255) to hexadecimal:**\n",
    "   - Divide $255$ by $16$:\n",
    "     $$\n",
    "     255 \\div 16 = 15 \\text{ remainder } 15\n",
    "     $$\n",
    "   - In hexadecimal, $15$ is represented as $F$. So, $255$ becomes **FF**.\n",
    "\n",
    "4. **Combine the results:**\n",
    "   - Concatenate the hexadecimal values of the red, green, and blue components:\n",
    "     $$\n",
    "     80, 40, \\text{and } FF\n",
    "     $$\n",
    "\n",
    "#### Final Answer:\n",
    "The hexadecimal representation of the RGB color $(128, 64, 255)$ is:\n",
    "**#8040FF**"
   ]
  },
  {
   "cell_type": "markdown",
   "metadata": {},
   "source": [
    "### Question 05\n",
    "\n",
    "Using the coin representation system described in the lecture (c[quarters][dimes][nickels][pennies]), convert $1.37 to coin representation. Explain your reasoning."
   ]
  },
  {
   "cell_type": "markdown",
   "metadata": {},
   "source": [
    "\n",
    "1. **Start with quarters ($25 \\, \\text{cents}$):**\n",
    "   - $1.37 = 137 \\, \\text{cents}$.\n",
    "   - Divide $137$ by $25$ to find the number of quarters:\n",
    "     $$\n",
    "     137 \\div 25 = 5 \\, \\text{quarters (remainder } 12 \\, \\text{cents)}\n",
    "     $$\n",
    "   - Use **5 quarters**, leaving $12 \\, \\text{cents}$.\n",
    "\n",
    "2. **Move to dimes ($10 \\, \\text{cents}$):**\n",
    "   - Divide the remaining $12 \\, \\text{cents}$ by $10$:\n",
    "     $$\n",
    "     12 \\div 10 = 1 \\, \\text{dime (remainder } 2 \\, \\text{cents)}\n",
    "     $$\n",
    "   - Use **1 dime**, leaving $2 \\, \\text{cents}$.\n",
    "\n",
    "3. **Move to nickels ($5 \\, \\text{cents}$):**\n",
    "   - $2 \\, \\text{cents}$ is less than $5 \\, \\text{cents}$, so no nickels are used.\n",
    "   - Use **0 nickels**, leaving $2 \\, \\text{cents}$.\n",
    "\n",
    "4. **Move to pennies ($1 \\, \\text{cent}$):**\n",
    "   - The remaining $2 \\, \\text{cents}$ equals $2 \\, \\text{pennies}$.\n",
    "   - Use **2 pennies**.\n",
    "\n",
    "#### Final Coin Representation:\n",
    "The coin representation of $1.37$ is:\n",
    "$$\n",
    "c[5][1][0][2]\n",
    "$$"
   ]
  },
  {
   "cell_type": "markdown",
   "metadata": {},
   "source": [
    "### Question 06\n",
    "\n",
    "What is the Unicode representation of the word \"Emory\"? Use the Unicode table provided in the lecture to find out."
   ]
  },
  {
   "cell_type": "markdown",
   "metadata": {},
   "source": [
    "1. Break the word **\"Emory\"** into individual characters:  \n",
    "   **E**, **m**, **o**, **r**, **y**\n",
    "\n",
    "2. Look up the Unicode (or ASCII) value of each character:\n",
    "   - **E**: Unicode value = **U+0045**\n",
    "   - **m**: Unicode value = **U+006D**\n",
    "   - **o**: Unicode value = **U+006F**\n",
    "   - **r**: Unicode value = **U+0072**\n",
    "   - **y**: Unicode value = **U+0079**\n",
    "\n",
    "3. Combine the Unicode values for the full representation:  \n",
    "   **U+0045 U+006D U+006F U+0072 U+0079**\n",
    "\n",
    "#### Final Answer:\n",
    "The Unicode representation of the word **\"Emory\"** is:  \n",
    "**U+0045 U+006D U+006F U+0072 U+0079**"
   ]
  },
  {
   "cell_type": "markdown",
   "metadata": {},
   "source": [
    "### Question 07\n",
    "\n",
    "Explain the difference between ASCII and Unicode. Why was Unicode developed, and what advantages does it offer over ASCII?"
   ]
  },
  {
   "cell_type": "markdown",
   "metadata": {},
   "source": [
    "#### 1. **ASCII (American Standard Code for Information Interchange):**\n",
    "   - **Definition:** A character encoding standard developed in the 1960s for representing English characters and control codes.\n",
    "   - **Character Set:** Contains 128 characters, represented by 7 bits:\n",
    "     - 0–31: Control characters (e.g., newline, tab)\n",
    "     - 32–126: Printable characters (e.g., letters, digits, symbols)\n",
    "   - **Limitations:**\n",
    "     - Only supports basic Latin characters and symbols.\n",
    "     - Cannot handle characters from non-English languages, such as accented letters, Chinese, Arabic, or emojis.\n",
    "\n",
    "#### 2. **Unicode:**\n",
    "   - **Definition:** A universal character encoding standard developed in the early 1990s to support text representation across all languages and systems.\n",
    "   - **Character Set:** \n",
    "     - Supports over 143,000 characters as of Unicode 15.0.\n",
    "     - Uses variable-length encodings like UTF-8, UTF-16, and UTF-32.\n",
    "   - **Advantages Over ASCII:**\n",
    "     - **Multilingual Support:** Handles characters from virtually all writing systems (e.g., Chinese, Arabic, Cyrillic, and Hindi).\n",
    "     - **Compatibility:** Supports emojis, symbols, and other non-text characters.\n",
    "     - **Scalability:** Can grow to include more characters without breaking existing systems.\n",
    "\n",
    "---\n",
    "\n",
    "#### Why Was Unicode Developed?\n",
    "   - ASCII's limited character set was insufficient for representing global languages and symbols, which became critical as the internet expanded worldwide.\n",
    "   - Different regions developed their own encoding systems (e.g., ISO 8859-1 for Western Europe, Shift-JIS for Japanese), leading to **incompatibility issues**.\n",
    "   - Unicode was created to provide a **single, consistent standard** for encoding all characters, enabling seamless text sharing and representation across languages and platforms.\n",
    "\n",
    "---\n",
    "\n",
    "#### Advantages of Unicode Over ASCII:\n",
    "1. **Global Coverage:** Unicode supports almost all written languages, while ASCII only supports English characters and basic symbols.\n",
    "2. **Flexibility:** Unicode provides variable-length encoding options like UTF-8, which is backward-compatible with ASCII but can represent additional characters efficiently.\n",
    "3. **Modern Relevance:** Unicode is essential for modern computing, supporting emojis, mathematical symbols, and diverse scripts used in today's globalized world.\n"
   ]
  },
  {
   "cell_type": "markdown",
   "metadata": {},
   "source": [
    "### Question 08\n",
    "\n",
    "Describe the Von Neumann architecture and its significance in modern computing. What is the Von Neumann bottleneck, and how does it affect computer performance?"
   ]
  },
  {
   "cell_type": "markdown",
   "metadata": {},
   "source": [
    "#### 1. **Von Neumann Architecture:**\n",
    "   - **Definition:** A computer architecture proposed by John von Neumann in 1945, which forms the basis of most modern computers.\n",
    "   - **Key Components:**\n",
    "     1. **Central Processing Unit (CPU):**\n",
    "        - Executes instructions and processes data.\n",
    "        - Contains an Arithmetic Logic Unit (ALU) for calculations and a Control Unit (CU) to manage operations.\n",
    "     2. **Memory:**\n",
    "        - A single memory unit stores both data and program instructions.\n",
    "        - Organized in a linear addressable sequence.\n",
    "     3. **Input/Output (I/O) Devices:**\n",
    "        - Allow communication between the computer and the outside world (e.g., keyboard, monitor, printer).\n",
    "     4. **Bus System:**\n",
    "        - A communication pathway that transfers data, instructions, and control signals between components.\n",
    "   - **Key Principle:**\n",
    "     - The system operates sequentially, fetching instructions from memory, decoding them, executing them, and then storing the results back in memory.\n",
    "\n",
    "#### 2. **Significance in Modern Computing:**\n",
    "   - **Foundation of Modern Computers:**\n",
    "     - The Von Neumann architecture introduced the concept of a stored-program computer, where instructions and data reside in the same memory, enabling programmable machines.\n",
    "   - **Flexibility:**\n",
    "     - Allowed for reprogrammable computers instead of hardware-specific logic.\n",
    "   - **Universal Adoption:**\n",
    "     - Nearly all modern computers, from desktops to smartphones, are based on this architecture.\n",
    "\n",
    "---\n",
    "\n",
    "#### 3. **Von Neumann Bottleneck:**\n",
    "   - **Definition:**\n",
    "     - A limitation arising from the shared communication pathway (the bus) between the CPU and memory, which creates a bottleneck in data transfer rates.\n",
    "   - **How It Occurs:**\n",
    "     - The CPU operates at a much faster speed than the memory, but it must wait for data and instructions to be fetched from memory before execution can proceed.\n",
    "   - **Effects on Computer Performance:**\n",
    "     - Slows down overall system performance due to the disparity between CPU speed and memory bandwidth.\n",
    "     - Limits the scalability of the system, especially in high-performance applications like data-intensive tasks or real-time processing.\n",
    "\n",
    "---\n",
    "\n",
    "#### 4. **Strategies to Mitigate the Von Neumann Bottleneck:**\n",
    "   - **Cache Memory:**\n",
    "     - Introduce smaller, faster memory (cache) between the CPU and main memory to reduce access delays.\n",
    "   - **Pipelining:**\n",
    "     - Overlap instruction execution to make better use of the CPU.\n",
    "   - **Multiple Cores:**\n",
    "     - Distribute workloads across multiple CPU cores to improve throughput.\n",
    "   - **Separate Memory for Instructions and Data (Harvard Architecture):**\n",
    "     - Use separate memory buses for data and instructions to reduce contention."
   ]
  },
  {
   "cell_type": "markdown",
   "metadata": {},
   "source": [
    "### Question 09\n",
    "\n",
    "Compare and contrast low-level and high-level programming languages. Give two examples of each and explain when you might choose to use one over the other."
   ]
  },
  {
   "cell_type": "markdown",
   "metadata": {},
   "source": [
    "\n",
    "#### 1. **Low-Level Programming Languages:**\n",
    "   - **Definition:**\n",
    "     - Languages that are closer to machine language, providing minimal abstraction from a computer's hardware.\n",
    "   - **Characteristics:**\n",
    "     - Code is harder to read and write as it requires detailed management of hardware and memory.\n",
    "     - Offers high performance and precise control over hardware resources.\n",
    "     - Examples include:\n",
    "       1. **Assembly Language:** Human-readable instructions directly corresponding to machine code.\n",
    "       2. **C:** A low-level, high-performance language often used for system programming.\n",
    "\n",
    "#### 2. **High-Level Programming Languages:**\n",
    "   - **Definition:**\n",
    "     - Languages that provide greater abstraction, making them easier to read, write, and understand for humans.\n",
    "   - **Characteristics:**\n",
    "     - Code is more portable across different hardware architectures.\n",
    "     - Includes built-in libraries and abstractions to simplify complex tasks.\n",
    "     - Examples include:\n",
    "       1. **Python:** Known for its simplicity and versatility in various domains like web development and data science.\n",
    "       2. **Java:** A robust, platform-independent language used for enterprise applications and Android development.\n",
    "\n",
    "---\n",
    "\n",
    "#### Key Differences:\n",
    "\n",
    "| **Aspect**               | **Low-Level Languages**                    | **High-Level Languages**                   |\n",
    "|--------------------------|--------------------------------------------|-------------------------------------------|\n",
    "| **Abstraction Level**     | Minimal, closer to hardware               | High, closer to human language            |\n",
    "| **Ease of Use**           | Difficult to write and debug              | Easier to write and debug                 |\n",
    "| **Performance**           | Faster execution, high optimization       | Slower execution due to abstraction       |\n",
    "| **Portability**           | Machine-dependent                        | Machine-independent                       |\n",
    "| **Use Cases**             | System programming, embedded systems      | Application development, data processing  |\n",
    "\n",
    "---\n",
    "\n",
    "#### 3. **When to Use Each Type:**\n",
    "\n",
    "- **Low-Level Programming Languages:**\n",
    "  - Use when performance, efficiency, or direct hardware control is critical.\n",
    "  - Example scenarios:\n",
    "    1. Writing operating systems or device drivers (e.g., Assembly or C).\n",
    "    2. Developing embedded systems or real-time applications where hardware constraints are tight.\n",
    "\n",
    "- **High-Level Programming Languages:**\n",
    "  - Use for rapid development, portability, and ease of maintenance.\n",
    "  - Example scenarios:\n",
    "    1. Building web applications or data analysis scripts (e.g., Python).\n",
    "    2. Developing enterprise-level applications or cross-platform systems (e.g., Java)."
   ]
  },
  {
   "cell_type": "markdown",
   "metadata": {},
   "source": [
    "### Question 10\n",
    "\n",
    "Discuss the concept of abstraction in computer science, using the representation of images in computers as an example. How does this abstraction process impact data analysis and predictive modelling in image-related tasks?"
   ]
  },
  {
   "cell_type": "markdown",
   "metadata": {},
   "source": [
    "#### 1. **What is Abstraction?**\n",
    "- Abstraction simplifies complex systems by focusing on key details and hiding underlying complexity.\n",
    "- It helps computers process and analyze data more efficiently.\n",
    "\n",
    "#### 2. **Image Representation as Abstraction**\n",
    "- **Physical Image:** A real-world visual.\n",
    "- **Digital Representation:** Images are converted into a grid of pixels.\n",
    "- **Numerical Representation:** Each pixel is represented by values (e.g., RGB: 3 numbers per pixel).\n",
    "- **Compressed Representation:** Further abstraction using formats like JPEG or PNG.\n",
    "\n",
    "#### 3. **Impact on Data Analysis and Predictive Modelling**\n",
    "**Benefits:**\n",
    "- Enables numerical analysis (e.g., pixel matrices for machine learning).\n",
    "- Facilitates automatic feature extraction (e.g., edges, shapes via CNNs).\n",
    "- Makes large-scale data processing feasible.\n",
    "\n",
    "**Challenges:**\n",
    "- Loss of information in compression or abstraction can affect model accuracy.\n",
    "- High-dimensional data (e.g., 100x100 images = 30,000 features) complicates training.\n",
    "- Abstraction decisions can introduce bias.\n",
    "\n",
    "#### 4. **Applications:**\n",
    "- **Data Analysis:** Object detection, pattern recognition.\n",
    "- **Predictive Modelling:** Tasks like facial recognition or medical imaging (e.g., X-rays).\n"
   ]
  }
 ],
 "metadata": {
  "kernelspec": {
   "display_name": "base",
   "language": "python",
   "name": "python3"
  },
  "language_info": {
   "codemirror_mode": {
    "name": "ipython",
    "version": 3
   },
   "file_extension": ".py",
   "mimetype": "text/x-python",
   "name": "python",
   "nbconvert_exporter": "python",
   "pygments_lexer": "ipython3",
   "version": "3.12.2"
  }
 },
 "nbformat": 4,
 "nbformat_minor": 2
}
